{
 "cells": [
  {
   "cell_type": "markdown",
   "id": "0930cbee",
   "metadata": {},
   "source": [
    "# CREDIT CARD APPROVAL PROJECT\n",
    "\n",
    "This notebook presents a complete machine learning pipeline to predict **credit card approval** using client application data and historical credit behavior.\n",
    "\n",
    "We work with two datasets:\n",
    "\n",
    "- `application_record.csv`: Contains demographic and financial attributes for each client (one row per client).\n",
    "- `credit_record.csv`: Contains monthly credit status history per client (multiple rows per client).\n",
    "\n",
    "The goal is to build a supervised **binary classification model** that predicts whether a client should be approved for a credit card, based on their profile and past credit behavior.\n",
    "\n",
    "### Key steps in this notebook:\n",
    "\n",
    "1. **Load and inspect the data**\n",
    "2. **Clean and merge the datasets**\n",
    "3. **Define a meaningful target variable** (e.g., late payment history as a proxy for credit risk)\n",
    "4. **Explore and visualize the data**\n",
    "5. **Engineer useful features**\n",
    "6. **Train and evaluate classification models**\n",
    "7. **Interpret model results and feature importance**\n",
    "\n",
    "This project will highlight best practices in real-world data science, including dealing with missing values, imbalanced classes, and model evaluation beyond accuracy (e.g., F1-score, AUC).\n"
   ]
  },
  {
   "cell_type": "markdown",
   "id": "8c1710a4",
   "metadata": {},
   "source": []
  }
 ],
 "metadata": {
  "language_info": {
   "name": "python"
  }
 },
 "nbformat": 4,
 "nbformat_minor": 5
}
