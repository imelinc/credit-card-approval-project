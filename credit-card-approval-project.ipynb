{
 "cells": [
  {
   "cell_type": "markdown",
   "id": "0930cbee",
   "metadata": {},
   "source": [
    "# CREDIT CARD APPROVAL PROJECT\n",
    "\n",
    "This notebook presents a complete machine learning project to predict **credit card approval** using client application data and historical credit behavior.\n",
    "\n",
    "We'll work with two datasets:\n",
    "\n",
    "- `application_record.csv`: Contains demographic and financial attributes for each client (one row per client).\n",
    "- `credit_record.csv`: Contains monthly credit status history per client (multiple rows per client).\n",
    "\n",
    "The goal is to build a **model** that predicts whether a client should be approved for a credit card, based on their profile and past credit behavior.\n",
    "\n",
    "### Key steps in this notebook:\n",
    "\n",
    "1. **Load and inspect the data**\n",
    "2. **Clean and merge the datasets**\n",
    "3. **Define a meaningful target variable** (late payment history as a proxy for credit risk for example)\n",
    "4. **Explore and visualize the data**\n",
    "5. **Engineer useful features**\n",
    "6. **Train and evaluate classification models**\n",
    "7. **Interpret model results and feature importance**\n",
    "\n",
    "This project will highlight best practices in real-world data science, including dealing with missing values, imbalanced classes, and model evaluation beyond accuracy.\n"
   ]
  },
  {
   "cell_type": "markdown",
   "id": "8c1710a4",
   "metadata": {},
   "source": [
    "Let's get to it."
   ]
  },
  {
   "cell_type": "code",
   "execution_count": 166,
   "id": "45e3c77d",
   "metadata": {},
   "outputs": [],
   "source": [
    "# Importing libraries\n",
    "import pandas as pd\n",
    "import matplotlib.pyplot as plt\n",
    "import numpy as np"
   ]
  },
  {
   "cell_type": "code",
   "execution_count": 167,
   "id": "cdd6734c",
   "metadata": {},
   "outputs": [],
   "source": [
    "# Now let's load the datasets\n",
    "df_application = pd.read_csv(\"data/application_record.csv\")\n",
    "df_credit = pd.read_csv(\"data/credit_record.csv\")"
   ]
  }
 ],
 "metadata": {
  "kernelspec": {
   "display_name": "Python 3",
   "language": "python",
   "name": "python3"
  },
  "language_info": {
   "codemirror_mode": {
    "name": "ipython",
    "version": 3
   },
   "file_extension": ".py",
   "mimetype": "text/x-python",
   "name": "python",
   "nbconvert_exporter": "python",
   "pygments_lexer": "ipython3",
   "version": "3.12.9"
  }
 },
 "nbformat": 4,
 "nbformat_minor": 5
}
